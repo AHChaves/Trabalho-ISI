{
 "cells": [
  {
   "cell_type": "markdown",
   "metadata": {},
   "source": [
    "# Analise Exploratoria de dados"
   ]
  },
  {
   "cell_type": "markdown",
   "metadata": {},
   "source": [
    "## Imports"
   ]
  },
  {
   "cell_type": "code",
   "execution_count": 7,
   "metadata": {},
   "outputs": [],
   "source": [
    "import pandas as pd\n",
    "import numpy as np"
   ]
  },
  {
   "cell_type": "markdown",
   "metadata": {},
   "source": [
    "## Leitura da tabela"
   ]
  },
  {
   "cell_type": "code",
   "execution_count": 8,
   "metadata": {},
   "outputs": [],
   "source": [
    "df = pd.read_csv(\"..\\\\assets\\\\data\\\\adm_data_reduced.csv\")"
   ]
  },
  {
   "cell_type": "markdown",
   "metadata": {},
   "source": [
    "## Analise Inicial"
   ]
  },
  {
   "cell_type": "code",
   "execution_count": 9,
   "metadata": {},
   "outputs": [
    {
     "name": "stdout",
     "output_type": "stream",
     "text": [
      "<class 'pandas.core.frame.DataFrame'>\n",
      "RangeIndex: 400 entries, 0 to 399\n",
      "Data columns (total 8 columns):\n",
      " #   Column             Non-Null Count  Dtype  \n",
      "---  ------             --------------  -----  \n",
      " 0   GRE Score          400 non-null    int64  \n",
      " 1   TOEFL Score        400 non-null    int64  \n",
      " 2   University Rating  400 non-null    int64  \n",
      " 3   SOP                400 non-null    float64\n",
      " 4   LOR                400 non-null    float64\n",
      " 5   CGPA               400 non-null    float64\n",
      " 6   Research           400 non-null    bool   \n",
      " 7   Chance of Admit    400 non-null    float64\n",
      "dtypes: bool(1), float64(4), int64(3)\n",
      "memory usage: 22.4 KB\n"
     ]
    }
   ],
   "source": [
    "df.info()"
   ]
  },
  {
   "cell_type": "code",
   "execution_count": 10,
   "metadata": {},
   "outputs": [
    {
     "data": {
      "text/html": [
       "<div>\n",
       "<style scoped>\n",
       "    .dataframe tbody tr th:only-of-type {\n",
       "        vertical-align: middle;\n",
       "    }\n",
       "\n",
       "    .dataframe tbody tr th {\n",
       "        vertical-align: top;\n",
       "    }\n",
       "\n",
       "    .dataframe thead th {\n",
       "        text-align: right;\n",
       "    }\n",
       "</style>\n",
       "<table border=\"1\" class=\"dataframe\">\n",
       "  <thead>\n",
       "    <tr style=\"text-align: right;\">\n",
       "      <th></th>\n",
       "      <th>GRE Score</th>\n",
       "      <th>TOEFL Score</th>\n",
       "      <th>University Rating</th>\n",
       "      <th>SOP</th>\n",
       "      <th>LOR</th>\n",
       "      <th>CGPA</th>\n",
       "      <th>Research</th>\n",
       "      <th>Chance of Admit</th>\n",
       "    </tr>\n",
       "  </thead>\n",
       "  <tbody>\n",
       "    <tr>\n",
       "      <th>0</th>\n",
       "      <td>337</td>\n",
       "      <td>118</td>\n",
       "      <td>4</td>\n",
       "      <td>4.5</td>\n",
       "      <td>4.5</td>\n",
       "      <td>9.65</td>\n",
       "      <td>True</td>\n",
       "      <td>0.92</td>\n",
       "    </tr>\n",
       "    <tr>\n",
       "      <th>1</th>\n",
       "      <td>324</td>\n",
       "      <td>107</td>\n",
       "      <td>4</td>\n",
       "      <td>4.0</td>\n",
       "      <td>4.5</td>\n",
       "      <td>8.87</td>\n",
       "      <td>True</td>\n",
       "      <td>0.76</td>\n",
       "    </tr>\n",
       "    <tr>\n",
       "      <th>2</th>\n",
       "      <td>316</td>\n",
       "      <td>104</td>\n",
       "      <td>3</td>\n",
       "      <td>3.0</td>\n",
       "      <td>3.5</td>\n",
       "      <td>8.00</td>\n",
       "      <td>True</td>\n",
       "      <td>0.72</td>\n",
       "    </tr>\n",
       "    <tr>\n",
       "      <th>3</th>\n",
       "      <td>322</td>\n",
       "      <td>110</td>\n",
       "      <td>3</td>\n",
       "      <td>3.5</td>\n",
       "      <td>2.5</td>\n",
       "      <td>8.67</td>\n",
       "      <td>True</td>\n",
       "      <td>0.80</td>\n",
       "    </tr>\n",
       "    <tr>\n",
       "      <th>4</th>\n",
       "      <td>314</td>\n",
       "      <td>103</td>\n",
       "      <td>2</td>\n",
       "      <td>2.0</td>\n",
       "      <td>3.0</td>\n",
       "      <td>8.21</td>\n",
       "      <td>False</td>\n",
       "      <td>0.65</td>\n",
       "    </tr>\n",
       "  </tbody>\n",
       "</table>\n",
       "</div>"
      ],
      "text/plain": [
       "   GRE Score  TOEFL Score  University Rating  SOP  LOR   CGPA  Research  \\\n",
       "0        337          118                  4  4.5   4.5  9.65      True   \n",
       "1        324          107                  4  4.0   4.5  8.87      True   \n",
       "2        316          104                  3  3.0   3.5  8.00      True   \n",
       "3        322          110                  3  3.5   2.5  8.67      True   \n",
       "4        314          103                  2  2.0   3.0  8.21     False   \n",
       "\n",
       "   Chance of Admit   \n",
       "0              0.92  \n",
       "1              0.76  \n",
       "2              0.72  \n",
       "3              0.80  \n",
       "4              0.65  "
      ]
     },
     "execution_count": 10,
     "metadata": {},
     "output_type": "execute_result"
    }
   ],
   "source": [
    "df.head()"
   ]
  },
  {
   "cell_type": "code",
   "execution_count": 11,
   "metadata": {},
   "outputs": [
    {
     "data": {
      "text/plain": [
       "Index(['GRE Score', 'TOEFL Score', 'University Rating', 'SOP', 'LOR ', 'CGPA',\n",
       "       'Research', 'Chance of Admit '],\n",
       "      dtype='object')"
      ]
     },
     "execution_count": 11,
     "metadata": {},
     "output_type": "execute_result"
    }
   ],
   "source": [
    "df.columns"
   ]
  },
  {
   "cell_type": "markdown",
   "metadata": {},
   "source": [
    "## Analise estatística"
   ]
  },
  {
   "cell_type": "markdown",
   "metadata": {},
   "source": [
    "### Tabela no geral"
   ]
  },
  {
   "cell_type": "code",
   "execution_count": 25,
   "metadata": {},
   "outputs": [
    {
     "data": {
      "text/html": [
       "<div>\n",
       "<style scoped>\n",
       "    .dataframe tbody tr th:only-of-type {\n",
       "        vertical-align: middle;\n",
       "    }\n",
       "\n",
       "    .dataframe tbody tr th {\n",
       "        vertical-align: top;\n",
       "    }\n",
       "\n",
       "    .dataframe thead th {\n",
       "        text-align: right;\n",
       "    }\n",
       "</style>\n",
       "<table border=\"1\" class=\"dataframe\">\n",
       "  <thead>\n",
       "    <tr style=\"text-align: right;\">\n",
       "      <th></th>\n",
       "      <th>GRE Score</th>\n",
       "      <th>TOEFL Score</th>\n",
       "      <th>University Rating</th>\n",
       "      <th>SOP</th>\n",
       "      <th>LOR</th>\n",
       "      <th>CGPA</th>\n",
       "      <th>Chance of Admit</th>\n",
       "    </tr>\n",
       "  </thead>\n",
       "  <tbody>\n",
       "    <tr>\n",
       "      <th>count</th>\n",
       "      <td>400.000000</td>\n",
       "      <td>400.000000</td>\n",
       "      <td>400.000000</td>\n",
       "      <td>400.000000</td>\n",
       "      <td>400.000000</td>\n",
       "      <td>400.000000</td>\n",
       "      <td>400.000000</td>\n",
       "    </tr>\n",
       "    <tr>\n",
       "      <th>mean</th>\n",
       "      <td>316.807500</td>\n",
       "      <td>107.410000</td>\n",
       "      <td>3.087500</td>\n",
       "      <td>3.400000</td>\n",
       "      <td>3.452500</td>\n",
       "      <td>8.598925</td>\n",
       "      <td>0.724350</td>\n",
       "    </tr>\n",
       "    <tr>\n",
       "      <th>std</th>\n",
       "      <td>11.473646</td>\n",
       "      <td>6.069514</td>\n",
       "      <td>1.143728</td>\n",
       "      <td>1.006869</td>\n",
       "      <td>0.898478</td>\n",
       "      <td>0.596317</td>\n",
       "      <td>0.142609</td>\n",
       "    </tr>\n",
       "    <tr>\n",
       "      <th>min</th>\n",
       "      <td>290.000000</td>\n",
       "      <td>92.000000</td>\n",
       "      <td>1.000000</td>\n",
       "      <td>1.000000</td>\n",
       "      <td>1.000000</td>\n",
       "      <td>6.800000</td>\n",
       "      <td>0.340000</td>\n",
       "    </tr>\n",
       "    <tr>\n",
       "      <th>25%</th>\n",
       "      <td>308.000000</td>\n",
       "      <td>103.000000</td>\n",
       "      <td>2.000000</td>\n",
       "      <td>2.500000</td>\n",
       "      <td>3.000000</td>\n",
       "      <td>8.170000</td>\n",
       "      <td>0.640000</td>\n",
       "    </tr>\n",
       "    <tr>\n",
       "      <th>50%</th>\n",
       "      <td>317.000000</td>\n",
       "      <td>107.000000</td>\n",
       "      <td>3.000000</td>\n",
       "      <td>3.500000</td>\n",
       "      <td>3.500000</td>\n",
       "      <td>8.610000</td>\n",
       "      <td>0.730000</td>\n",
       "    </tr>\n",
       "    <tr>\n",
       "      <th>75%</th>\n",
       "      <td>325.000000</td>\n",
       "      <td>112.000000</td>\n",
       "      <td>4.000000</td>\n",
       "      <td>4.000000</td>\n",
       "      <td>4.000000</td>\n",
       "      <td>9.062500</td>\n",
       "      <td>0.830000</td>\n",
       "    </tr>\n",
       "    <tr>\n",
       "      <th>max</th>\n",
       "      <td>340.000000</td>\n",
       "      <td>120.000000</td>\n",
       "      <td>5.000000</td>\n",
       "      <td>5.000000</td>\n",
       "      <td>5.000000</td>\n",
       "      <td>9.920000</td>\n",
       "      <td>0.970000</td>\n",
       "    </tr>\n",
       "  </tbody>\n",
       "</table>\n",
       "</div>"
      ],
      "text/plain": [
       "        GRE Score  TOEFL Score  University Rating         SOP        LOR   \\\n",
       "count  400.000000   400.000000         400.000000  400.000000  400.000000   \n",
       "mean   316.807500   107.410000           3.087500    3.400000    3.452500   \n",
       "std     11.473646     6.069514           1.143728    1.006869    0.898478   \n",
       "min    290.000000    92.000000           1.000000    1.000000    1.000000   \n",
       "25%    308.000000   103.000000           2.000000    2.500000    3.000000   \n",
       "50%    317.000000   107.000000           3.000000    3.500000    3.500000   \n",
       "75%    325.000000   112.000000           4.000000    4.000000    4.000000   \n",
       "max    340.000000   120.000000           5.000000    5.000000    5.000000   \n",
       "\n",
       "             CGPA  Chance of Admit   \n",
       "count  400.000000        400.000000  \n",
       "mean     8.598925          0.724350  \n",
       "std      0.596317          0.142609  \n",
       "min      6.800000          0.340000  \n",
       "25%      8.170000          0.640000  \n",
       "50%      8.610000          0.730000  \n",
       "75%      9.062500          0.830000  \n",
       "max      9.920000          0.970000  "
      ]
     },
     "execution_count": 25,
     "metadata": {},
     "output_type": "execute_result"
    }
   ],
   "source": [
    "df.describe()"
   ]
  },
  {
   "cell_type": "code",
   "execution_count": 67,
   "metadata": {},
   "outputs": [
    {
     "name": "stdout",
     "output_type": "stream",
     "text": [
      "316.8075\n",
      "317.0\n",
      "0    312\n",
      "1    324\n",
      "Name: GRE Score, dtype: int64\n",
      "340\n",
      "290\n"
     ]
    }
   ],
   "source": [
    "print(df['GRE Score'].mean())\n",
    "print(df['GRE Score'].median())\n",
    "print(df['GRE Score'].mode())\n",
    "print(df['GRE Score'].max())\n",
    "print(df['GRE Score'].min())"
   ]
  },
  {
   "cell_type": "code",
   "execution_count": 63,
   "metadata": {},
   "outputs": [
    {
     "name": "stdout",
     "output_type": "stream",
     "text": [
      "107.41\n",
      "107.0\n",
      "0    110\n",
      "Name: TOEFL Score, dtype: int64\n",
      "120\n",
      "92\n"
     ]
    }
   ],
   "source": [
    "print(df['TOEFL Score'].mean())\n",
    "print(df['TOEFL Score'].median())\n",
    "print(df['TOEFL Score'].mode())\n",
    "print(df['TOEFL Score'].max())\n",
    "print(df['TOEFL Score'].min())"
   ]
  },
  {
   "cell_type": "code",
   "execution_count": 68,
   "metadata": {},
   "outputs": [
    {
     "name": "stdout",
     "output_type": "stream",
     "text": [
      "3.0875\n",
      "3.0\n",
      "0    3\n",
      "Name: University Rating, dtype: int64\n",
      "5\n",
      "1\n"
     ]
    }
   ],
   "source": [
    "print(df['University Rating'].mean())\n",
    "print(df['University Rating'].median())\n",
    "print(df['University Rating'].mode())\n",
    "print(df['University Rating'].max())\n",
    "print(df['University Rating'].min())"
   ]
  },
  {
   "cell_type": "code",
   "execution_count": 70,
   "metadata": {},
   "outputs": [
    {
     "name": "stdout",
     "output_type": "stream",
     "text": [
      "3.4525\n",
      "3.5\n",
      "0    3.0\n",
      "Name: LOR , dtype: float64\n",
      "5.0\n",
      "1.0\n"
     ]
    }
   ],
   "source": [
    "print(df['LOR '].mean())\n",
    "print(df['LOR '].median())\n",
    "print(df['LOR '].mode())\n",
    "print(df['LOR '].max())\n",
    "print(df['LOR '].min())"
   ]
  },
  {
   "cell_type": "code",
   "execution_count": 72,
   "metadata": {},
   "outputs": [
    {
     "name": "stdout",
     "output_type": "stream",
     "text": [
      "3.4\n",
      "3.5\n",
      "0    3.5\n",
      "1    4.0\n",
      "Name: SOP, dtype: float64\n",
      "5.0\n",
      "1.0\n"
     ]
    }
   ],
   "source": [
    "print(df['SOP'].mean())\n",
    "print(df['SOP'].median())\n",
    "print(df['SOP'].mode())\n",
    "print(df['SOP'].max())\n",
    "print(df['SOP'].min())"
   ]
  },
  {
   "cell_type": "code",
   "execution_count": 64,
   "metadata": {},
   "outputs": [
    {
     "name": "stdout",
     "output_type": "stream",
     "text": [
      "8.598925\n",
      "8.61\n",
      "0    8.0\n",
      "Name: CGPA, dtype: float64\n",
      "9.92\n",
      "6.8\n"
     ]
    }
   ],
   "source": [
    "print(df['CGPA'].mean())\n",
    "print(df['CGPA'].median())\n",
    "print(df['CGPA'].mode())\n",
    "print(df['CGPA'].max())\n",
    "print(df['CGPA'].min())"
   ]
  },
  {
   "cell_type": "code",
   "execution_count": 62,
   "metadata": {},
   "outputs": [
    {
     "name": "stdout",
     "output_type": "stream",
     "text": [
      "0.72435\n",
      "0.73\n",
      "0    0.64\n",
      "Name: Chance of Admit , dtype: float64\n",
      "0.97\n",
      "0.34\n"
     ]
    }
   ],
   "source": [
    "print(df['Chance of Admit '].mean())\n",
    "print(df['Chance of Admit '].median())\n",
    "print(df['Chance of Admit '].mode())\n",
    "print(df['Chance of Admit '].max())\n",
    "print(df['Chance of Admit '].min())"
   ]
  },
  {
   "cell_type": "markdown",
   "metadata": {},
   "source": [
    "### Pessoas com uma chance de admissão maior ou igual a 90"
   ]
  },
  {
   "cell_type": "markdown",
   "metadata": {},
   "source": [
    "#### Total"
   ]
  },
  {
   "cell_type": "code",
   "execution_count": 15,
   "metadata": {},
   "outputs": [],
   "source": [
    "chance_of_aproval = df[df['Chance of Admit '] >= 0.9]"
   ]
  },
  {
   "cell_type": "code",
   "execution_count": 18,
   "metadata": {},
   "outputs": [
    {
     "data": {
      "text/html": [
       "<div>\n",
       "<style scoped>\n",
       "    .dataframe tbody tr th:only-of-type {\n",
       "        vertical-align: middle;\n",
       "    }\n",
       "\n",
       "    .dataframe tbody tr th {\n",
       "        vertical-align: top;\n",
       "    }\n",
       "\n",
       "    .dataframe thead th {\n",
       "        text-align: right;\n",
       "    }\n",
       "</style>\n",
       "<table border=\"1\" class=\"dataframe\">\n",
       "  <thead>\n",
       "    <tr style=\"text-align: right;\">\n",
       "      <th></th>\n",
       "      <th>GRE Score</th>\n",
       "      <th>TOEFL Score</th>\n",
       "      <th>University Rating</th>\n",
       "      <th>SOP</th>\n",
       "      <th>LOR</th>\n",
       "      <th>CGPA</th>\n",
       "      <th>Chance of Admit</th>\n",
       "    </tr>\n",
       "  </thead>\n",
       "  <tbody>\n",
       "    <tr>\n",
       "      <th>count</th>\n",
       "      <td>57.000000</td>\n",
       "      <td>57.000000</td>\n",
       "      <td>57.000000</td>\n",
       "      <td>57.000000</td>\n",
       "      <td>57.000000</td>\n",
       "      <td>57.000000</td>\n",
       "      <td>57.000000</td>\n",
       "    </tr>\n",
       "    <tr>\n",
       "      <th>mean</th>\n",
       "      <td>333.245614</td>\n",
       "      <td>116.263158</td>\n",
       "      <td>4.561404</td>\n",
       "      <td>4.561404</td>\n",
       "      <td>4.421053</td>\n",
       "      <td>9.504386</td>\n",
       "      <td>0.932281</td>\n",
       "    </tr>\n",
       "    <tr>\n",
       "      <th>std</th>\n",
       "      <td>5.082465</td>\n",
       "      <td>2.689439</td>\n",
       "      <td>0.627283</td>\n",
       "      <td>0.453854</td>\n",
       "      <td>0.532761</td>\n",
       "      <td>0.206355</td>\n",
       "      <td>0.021466</td>\n",
       "    </tr>\n",
       "    <tr>\n",
       "      <th>min</th>\n",
       "      <td>320.000000</td>\n",
       "      <td>110.000000</td>\n",
       "      <td>2.000000</td>\n",
       "      <td>3.000000</td>\n",
       "      <td>3.000000</td>\n",
       "      <td>9.160000</td>\n",
       "      <td>0.900000</td>\n",
       "    </tr>\n",
       "    <tr>\n",
       "      <th>25%</th>\n",
       "      <td>331.000000</td>\n",
       "      <td>115.000000</td>\n",
       "      <td>4.000000</td>\n",
       "      <td>4.500000</td>\n",
       "      <td>4.000000</td>\n",
       "      <td>9.360000</td>\n",
       "      <td>0.910000</td>\n",
       "    </tr>\n",
       "    <tr>\n",
       "      <th>50%</th>\n",
       "      <td>334.000000</td>\n",
       "      <td>116.000000</td>\n",
       "      <td>5.000000</td>\n",
       "      <td>4.500000</td>\n",
       "      <td>4.500000</td>\n",
       "      <td>9.460000</td>\n",
       "      <td>0.930000</td>\n",
       "    </tr>\n",
       "    <tr>\n",
       "      <th>75%</th>\n",
       "      <td>337.000000</td>\n",
       "      <td>118.000000</td>\n",
       "      <td>5.000000</td>\n",
       "      <td>5.000000</td>\n",
       "      <td>5.000000</td>\n",
       "      <td>9.660000</td>\n",
       "      <td>0.950000</td>\n",
       "    </tr>\n",
       "    <tr>\n",
       "      <th>max</th>\n",
       "      <td>340.000000</td>\n",
       "      <td>120.000000</td>\n",
       "      <td>5.000000</td>\n",
       "      <td>5.000000</td>\n",
       "      <td>5.000000</td>\n",
       "      <td>9.920000</td>\n",
       "      <td>0.970000</td>\n",
       "    </tr>\n",
       "  </tbody>\n",
       "</table>\n",
       "</div>"
      ],
      "text/plain": [
       "        GRE Score  TOEFL Score  University Rating        SOP       LOR   \\\n",
       "count   57.000000    57.000000          57.000000  57.000000  57.000000   \n",
       "mean   333.245614   116.263158           4.561404   4.561404   4.421053   \n",
       "std      5.082465     2.689439           0.627283   0.453854   0.532761   \n",
       "min    320.000000   110.000000           2.000000   3.000000   3.000000   \n",
       "25%    331.000000   115.000000           4.000000   4.500000   4.000000   \n",
       "50%    334.000000   116.000000           5.000000   4.500000   4.500000   \n",
       "75%    337.000000   118.000000           5.000000   5.000000   5.000000   \n",
       "max    340.000000   120.000000           5.000000   5.000000   5.000000   \n",
       "\n",
       "            CGPA  Chance of Admit   \n",
       "count  57.000000         57.000000  \n",
       "mean    9.504386          0.932281  \n",
       "std     0.206355          0.021466  \n",
       "min     9.160000          0.900000  \n",
       "25%     9.360000          0.910000  \n",
       "50%     9.460000          0.930000  \n",
       "75%     9.660000          0.950000  \n",
       "max     9.920000          0.970000  "
      ]
     },
     "execution_count": 18,
     "metadata": {},
     "output_type": "execute_result"
    }
   ],
   "source": [
    "chance_of_aproval.describe()"
   ]
  },
  {
   "cell_type": "code",
   "execution_count": 60,
   "metadata": {},
   "outputs": [
    {
     "name": "stdout",
     "output_type": "stream",
     "text": [
      "333.2456140350877\n",
      "334.0\n",
      "0    340\n",
      "Name: GRE Score, dtype: int64\n",
      "340\n",
      "320\n"
     ]
    }
   ],
   "source": [
    "print(chance_of_aproval['GRE Score'].mean())\n",
    "print(chance_of_aproval['GRE Score'].median())\n",
    "print(chance_of_aproval['GRE Score'].mode())\n",
    "print(chance_of_aproval['GRE Score'].max())\n",
    "print(chance_of_aproval['GRE Score'].min())"
   ]
  },
  {
   "cell_type": "code",
   "execution_count": 74,
   "metadata": {},
   "outputs": [
    {
     "name": "stdout",
     "output_type": "stream",
     "text": [
      "116.26315789473684\n",
      "116.0\n",
      "0    118\n",
      "Name: TOEFL Score, dtype: int64\n",
      "120\n",
      "110\n"
     ]
    }
   ],
   "source": [
    "print(chance_of_aproval['TOEFL Score'].mean())\n",
    "print(chance_of_aproval['TOEFL Score'].median())\n",
    "print(chance_of_aproval['TOEFL Score'].mode())\n",
    "print(chance_of_aproval['TOEFL Score'].max())\n",
    "print(chance_of_aproval['TOEFL Score'].min())"
   ]
  },
  {
   "cell_type": "code",
   "execution_count": 75,
   "metadata": {},
   "outputs": [
    {
     "name": "stdout",
     "output_type": "stream",
     "text": [
      "4.56140350877193\n",
      "5.0\n",
      "0    5\n",
      "Name: University Rating, dtype: int64\n",
      "5\n",
      "2\n"
     ]
    }
   ],
   "source": [
    "print(chance_of_aproval['University Rating'].mean())\n",
    "print(chance_of_aproval['University Rating'].median())\n",
    "print(chance_of_aproval['University Rating'].mode())\n",
    "print(chance_of_aproval['University Rating'].max())\n",
    "print(chance_of_aproval['University Rating'].min())"
   ]
  },
  {
   "cell_type": "code",
   "execution_count": 77,
   "metadata": {},
   "outputs": [
    {
     "name": "stdout",
     "output_type": "stream",
     "text": [
      "4.421052631578948\n",
      "4.5\n",
      "0    4.5\n",
      "Name: LOR , dtype: float64\n",
      "5.0\n",
      "3.0\n"
     ]
    }
   ],
   "source": [
    "print(chance_of_aproval['LOR '].mean())\n",
    "print(chance_of_aproval['LOR '].median())\n",
    "print(chance_of_aproval['LOR '].mode())\n",
    "print(chance_of_aproval['LOR '].max())\n",
    "print(chance_of_aproval['LOR '].min())"
   ]
  },
  {
   "cell_type": "code",
   "execution_count": 78,
   "metadata": {},
   "outputs": [
    {
     "name": "stdout",
     "output_type": "stream",
     "text": [
      "4.56140350877193\n",
      "4.5\n",
      "0    5.0\n",
      "Name: SOP, dtype: float64\n",
      "5.0\n",
      "3.0\n"
     ]
    }
   ],
   "source": [
    "print(chance_of_aproval['SOP'].mean())\n",
    "print(chance_of_aproval['SOP'].median())\n",
    "print(chance_of_aproval['SOP'].mode())\n",
    "print(chance_of_aproval['SOP'].max())\n",
    "print(chance_of_aproval['SOP'].min())"
   ]
  },
  {
   "cell_type": "code",
   "execution_count": 65,
   "metadata": {},
   "outputs": [
    {
     "name": "stdout",
     "output_type": "stream",
     "text": [
      "9.504385964912279\n",
      "9.46\n",
      "0    9.36\n",
      "Name: CGPA, dtype: float64\n",
      "9.92\n",
      "9.16\n"
     ]
    }
   ],
   "source": [
    "print(chance_of_aproval['CGPA'].mean())\n",
    "print(chance_of_aproval['CGPA'].median())\n",
    "print(chance_of_aproval['CGPA'].mode())\n",
    "print(chance_of_aproval['CGPA'].max())\n",
    "print(chance_of_aproval['CGPA'].min())"
   ]
  },
  {
   "cell_type": "code",
   "execution_count": 80,
   "metadata": {},
   "outputs": [
    {
     "name": "stdout",
     "output_type": "stream",
     "text": [
      "0.9322807017543859\n",
      "0.93\n",
      "0    0.94\n",
      "Name: Chance of Admit , dtype: float64\n",
      "0.97\n",
      "0.9\n"
     ]
    }
   ],
   "source": [
    "print(chance_of_aproval['Chance of Admit '].mean())\n",
    "print(chance_of_aproval['Chance of Admit '].median())\n",
    "print(chance_of_aproval['Chance of Admit '].mode())\n",
    "print(chance_of_aproval['Chance of Admit '].max())\n",
    "print(chance_of_aproval['Chance of Admit '].min())"
   ]
  },
  {
   "cell_type": "markdown",
   "metadata": {},
   "source": [
    "#### Nas melhores Universidades"
   ]
  },
  {
   "cell_type": "code",
   "execution_count": 20,
   "metadata": {},
   "outputs": [],
   "source": [
    "chance_of_aproval_best_university =chance_of_aproval[chance_of_aproval['University Rating'] == 5]"
   ]
  },
  {
   "cell_type": "code",
   "execution_count": 23,
   "metadata": {},
   "outputs": [
    {
     "data": {
      "text/html": [
       "<div>\n",
       "<style scoped>\n",
       "    .dataframe tbody tr th:only-of-type {\n",
       "        vertical-align: middle;\n",
       "    }\n",
       "\n",
       "    .dataframe tbody tr th {\n",
       "        vertical-align: top;\n",
       "    }\n",
       "\n",
       "    .dataframe thead th {\n",
       "        text-align: right;\n",
       "    }\n",
       "</style>\n",
       "<table border=\"1\" class=\"dataframe\">\n",
       "  <thead>\n",
       "    <tr style=\"text-align: right;\">\n",
       "      <th></th>\n",
       "      <th>GRE Score</th>\n",
       "      <th>TOEFL Score</th>\n",
       "      <th>University Rating</th>\n",
       "      <th>SOP</th>\n",
       "      <th>LOR</th>\n",
       "      <th>CGPA</th>\n",
       "      <th>Chance of Admit</th>\n",
       "    </tr>\n",
       "  </thead>\n",
       "  <tbody>\n",
       "    <tr>\n",
       "      <th>count</th>\n",
       "      <td>35.000000</td>\n",
       "      <td>35.000000</td>\n",
       "      <td>35.0</td>\n",
       "      <td>35.000000</td>\n",
       "      <td>35.000000</td>\n",
       "      <td>35.000000</td>\n",
       "      <td>35.000000</td>\n",
       "    </tr>\n",
       "    <tr>\n",
       "      <th>mean</th>\n",
       "      <td>332.457143</td>\n",
       "      <td>115.942857</td>\n",
       "      <td>5.0</td>\n",
       "      <td>4.600000</td>\n",
       "      <td>4.457143</td>\n",
       "      <td>9.501714</td>\n",
       "      <td>0.934571</td>\n",
       "    </tr>\n",
       "    <tr>\n",
       "      <th>std</th>\n",
       "      <td>5.248769</td>\n",
       "      <td>2.764724</td>\n",
       "      <td>0.0</td>\n",
       "      <td>0.398527</td>\n",
       "      <td>0.573578</td>\n",
       "      <td>0.212471</td>\n",
       "      <td>0.019903</td>\n",
       "    </tr>\n",
       "    <tr>\n",
       "      <th>min</th>\n",
       "      <td>320.000000</td>\n",
       "      <td>110.000000</td>\n",
       "      <td>5.0</td>\n",
       "      <td>4.000000</td>\n",
       "      <td>3.000000</td>\n",
       "      <td>9.160000</td>\n",
       "      <td>0.900000</td>\n",
       "    </tr>\n",
       "    <tr>\n",
       "      <th>25%</th>\n",
       "      <td>330.500000</td>\n",
       "      <td>114.500000</td>\n",
       "      <td>5.0</td>\n",
       "      <td>4.500000</td>\n",
       "      <td>4.000000</td>\n",
       "      <td>9.355000</td>\n",
       "      <td>0.920000</td>\n",
       "    </tr>\n",
       "    <tr>\n",
       "      <th>50%</th>\n",
       "      <td>333.000000</td>\n",
       "      <td>116.000000</td>\n",
       "      <td>5.0</td>\n",
       "      <td>4.500000</td>\n",
       "      <td>4.500000</td>\n",
       "      <td>9.450000</td>\n",
       "      <td>0.940000</td>\n",
       "    </tr>\n",
       "    <tr>\n",
       "      <th>75%</th>\n",
       "      <td>336.000000</td>\n",
       "      <td>118.000000</td>\n",
       "      <td>5.0</td>\n",
       "      <td>5.000000</td>\n",
       "      <td>5.000000</td>\n",
       "      <td>9.670000</td>\n",
       "      <td>0.940000</td>\n",
       "    </tr>\n",
       "    <tr>\n",
       "      <th>max</th>\n",
       "      <td>340.000000</td>\n",
       "      <td>120.000000</td>\n",
       "      <td>5.0</td>\n",
       "      <td>5.000000</td>\n",
       "      <td>5.000000</td>\n",
       "      <td>9.910000</td>\n",
       "      <td>0.970000</td>\n",
       "    </tr>\n",
       "  </tbody>\n",
       "</table>\n",
       "</div>"
      ],
      "text/plain": [
       "        GRE Score  TOEFL Score  University Rating        SOP       LOR   \\\n",
       "count   35.000000    35.000000               35.0  35.000000  35.000000   \n",
       "mean   332.457143   115.942857                5.0   4.600000   4.457143   \n",
       "std      5.248769     2.764724                0.0   0.398527   0.573578   \n",
       "min    320.000000   110.000000                5.0   4.000000   3.000000   \n",
       "25%    330.500000   114.500000                5.0   4.500000   4.000000   \n",
       "50%    333.000000   116.000000                5.0   4.500000   4.500000   \n",
       "75%    336.000000   118.000000                5.0   5.000000   5.000000   \n",
       "max    340.000000   120.000000                5.0   5.000000   5.000000   \n",
       "\n",
       "            CGPA  Chance of Admit   \n",
       "count  35.000000         35.000000  \n",
       "mean    9.501714          0.934571  \n",
       "std     0.212471          0.019903  \n",
       "min     9.160000          0.900000  \n",
       "25%     9.355000          0.920000  \n",
       "50%     9.450000          0.940000  \n",
       "75%     9.670000          0.940000  \n",
       "max     9.910000          0.970000  "
      ]
     },
     "execution_count": 23,
     "metadata": {},
     "output_type": "execute_result"
    }
   ],
   "source": [
    "chance_of_aproval_best_university.describe()"
   ]
  },
  {
   "cell_type": "code",
   "execution_count": 61,
   "metadata": {},
   "outputs": [
    {
     "name": "stdout",
     "output_type": "stream",
     "text": [
      "115.94285714285714\n",
      "116.0\n",
      "0    115\n",
      "1    118\n",
      "Name: TOEFL Score, dtype: int64\n",
      "120\n",
      "110\n"
     ]
    }
   ],
   "source": [
    "print(chance_of_aproval_best_university['TOEFL Score'].mean())\n",
    "print(chance_of_aproval_best_university['TOEFL Score'].median())\n",
    "print(chance_of_aproval_best_university['TOEFL Score'].mode())\n",
    "print(chance_of_aproval_best_university['TOEFL Score'].max())\n",
    "print(chance_of_aproval_best_university['TOEFL Score'].min())"
   ]
  },
  {
   "cell_type": "code",
   "execution_count": 66,
   "metadata": {},
   "outputs": [
    {
     "name": "stdout",
     "output_type": "stream",
     "text": [
      "9.501714285714286\n",
      "9.45\n",
      "0    9.36\n",
      "Name: CGPA, dtype: float64\n",
      "9.91\n",
      "9.16\n"
     ]
    }
   ],
   "source": [
    "print(chance_of_aproval_best_university['CGPA'].mean())\n",
    "print(chance_of_aproval_best_university['CGPA'].median())\n",
    "print(chance_of_aproval_best_university['CGPA'].mode())\n",
    "print(chance_of_aproval_best_university['CGPA'].max())\n",
    "print(chance_of_aproval_best_university['CGPA'].min())"
   ]
  },
  {
   "cell_type": "markdown",
   "metadata": {},
   "source": [
    "### TOEFL"
   ]
  },
  {
   "cell_type": "markdown",
   "metadata": {},
   "source": [
    "#### Acima da mediana"
   ]
  },
  {
   "cell_type": "code",
   "execution_count": 51,
   "metadata": {},
   "outputs": [],
   "source": [
    "analise_TOEFL_beyond_median = df[df['TOEFL Score'] >= 107]"
   ]
  },
  {
   "cell_type": "code",
   "execution_count": 52,
   "metadata": {},
   "outputs": [
    {
     "data": {
      "text/html": [
       "<div>\n",
       "<style scoped>\n",
       "    .dataframe tbody tr th:only-of-type {\n",
       "        vertical-align: middle;\n",
       "    }\n",
       "\n",
       "    .dataframe tbody tr th {\n",
       "        vertical-align: top;\n",
       "    }\n",
       "\n",
       "    .dataframe thead th {\n",
       "        text-align: right;\n",
       "    }\n",
       "</style>\n",
       "<table border=\"1\" class=\"dataframe\">\n",
       "  <thead>\n",
       "    <tr style=\"text-align: right;\">\n",
       "      <th></th>\n",
       "      <th>GRE Score</th>\n",
       "      <th>TOEFL Score</th>\n",
       "      <th>University Rating</th>\n",
       "      <th>SOP</th>\n",
       "      <th>LOR</th>\n",
       "      <th>CGPA</th>\n",
       "      <th>Chance of Admit</th>\n",
       "    </tr>\n",
       "  </thead>\n",
       "  <tbody>\n",
       "    <tr>\n",
       "      <th>count</th>\n",
       "      <td>217.000000</td>\n",
       "      <td>217.000000</td>\n",
       "      <td>217.000000</td>\n",
       "      <td>217.000000</td>\n",
       "      <td>217.000000</td>\n",
       "      <td>217.000000</td>\n",
       "      <td>217.000000</td>\n",
       "    </tr>\n",
       "    <tr>\n",
       "      <th>mean</th>\n",
       "      <td>324.004608</td>\n",
       "      <td>111.958525</td>\n",
       "      <td>3.700461</td>\n",
       "      <td>3.919355</td>\n",
       "      <td>3.831797</td>\n",
       "      <td>8.976129</td>\n",
       "      <td>0.809124</td>\n",
       "    </tr>\n",
       "    <tr>\n",
       "      <th>std</th>\n",
       "      <td>8.524745</td>\n",
       "      <td>3.740808</td>\n",
       "      <td>0.989599</td>\n",
       "      <td>0.735473</td>\n",
       "      <td>0.780582</td>\n",
       "      <td>0.446089</td>\n",
       "      <td>0.108665</td>\n",
       "    </tr>\n",
       "    <tr>\n",
       "      <th>min</th>\n",
       "      <td>301.000000</td>\n",
       "      <td>107.000000</td>\n",
       "      <td>1.000000</td>\n",
       "      <td>2.000000</td>\n",
       "      <td>1.500000</td>\n",
       "      <td>7.700000</td>\n",
       "      <td>0.450000</td>\n",
       "    </tr>\n",
       "    <tr>\n",
       "      <th>25%</th>\n",
       "      <td>319.000000</td>\n",
       "      <td>109.000000</td>\n",
       "      <td>3.000000</td>\n",
       "      <td>3.500000</td>\n",
       "      <td>3.500000</td>\n",
       "      <td>8.670000</td>\n",
       "      <td>0.740000</td>\n",
       "    </tr>\n",
       "    <tr>\n",
       "      <th>50%</th>\n",
       "      <td>324.000000</td>\n",
       "      <td>111.000000</td>\n",
       "      <td>4.000000</td>\n",
       "      <td>4.000000</td>\n",
       "      <td>4.000000</td>\n",
       "      <td>9.020000</td>\n",
       "      <td>0.810000</td>\n",
       "    </tr>\n",
       "    <tr>\n",
       "      <th>75%</th>\n",
       "      <td>330.000000</td>\n",
       "      <td>114.000000</td>\n",
       "      <td>5.000000</td>\n",
       "      <td>4.500000</td>\n",
       "      <td>4.500000</td>\n",
       "      <td>9.260000</td>\n",
       "      <td>0.900000</td>\n",
       "    </tr>\n",
       "    <tr>\n",
       "      <th>max</th>\n",
       "      <td>340.000000</td>\n",
       "      <td>120.000000</td>\n",
       "      <td>5.000000</td>\n",
       "      <td>5.000000</td>\n",
       "      <td>5.000000</td>\n",
       "      <td>9.920000</td>\n",
       "      <td>0.970000</td>\n",
       "    </tr>\n",
       "  </tbody>\n",
       "</table>\n",
       "</div>"
      ],
      "text/plain": [
       "        GRE Score  TOEFL Score  University Rating         SOP        LOR   \\\n",
       "count  217.000000   217.000000         217.000000  217.000000  217.000000   \n",
       "mean   324.004608   111.958525           3.700461    3.919355    3.831797   \n",
       "std      8.524745     3.740808           0.989599    0.735473    0.780582   \n",
       "min    301.000000   107.000000           1.000000    2.000000    1.500000   \n",
       "25%    319.000000   109.000000           3.000000    3.500000    3.500000   \n",
       "50%    324.000000   111.000000           4.000000    4.000000    4.000000   \n",
       "75%    330.000000   114.000000           5.000000    4.500000    4.500000   \n",
       "max    340.000000   120.000000           5.000000    5.000000    5.000000   \n",
       "\n",
       "             CGPA  Chance of Admit   \n",
       "count  217.000000        217.000000  \n",
       "mean     8.976129          0.809124  \n",
       "std      0.446089          0.108665  \n",
       "min      7.700000          0.450000  \n",
       "25%      8.670000          0.740000  \n",
       "50%      9.020000          0.810000  \n",
       "75%      9.260000          0.900000  \n",
       "max      9.920000          0.970000  "
      ]
     },
     "execution_count": 52,
     "metadata": {},
     "output_type": "execute_result"
    }
   ],
   "source": [
    "analise_TOEFL_beyond_median.describe()"
   ]
  },
  {
   "cell_type": "code",
   "execution_count": 81,
   "metadata": {},
   "outputs": [
    {
     "name": "stdout",
     "output_type": "stream",
     "text": [
      "324.0046082949309\n",
      "324.0\n",
      "0    324\n",
      "Name: GRE Score, dtype: int64\n",
      "340\n",
      "301\n"
     ]
    }
   ],
   "source": [
    "print(analise_TOEFL_beyond_median['GRE Score'].mean())\n",
    "print(analise_TOEFL_beyond_median['GRE Score'].median())\n",
    "print(analise_TOEFL_beyond_median['GRE Score'].mode())\n",
    "print(analise_TOEFL_beyond_median['GRE Score'].max())\n",
    "print(analise_TOEFL_beyond_median['GRE Score'].min())"
   ]
  },
  {
   "cell_type": "code",
   "execution_count": 82,
   "metadata": {},
   "outputs": [
    {
     "name": "stdout",
     "output_type": "stream",
     "text": [
      "111.95852534562212\n",
      "111.0\n",
      "0    110\n",
      "Name: TOEFL Score, dtype: int64\n",
      "120\n",
      "107\n"
     ]
    }
   ],
   "source": [
    "print(analise_TOEFL_beyond_median['TOEFL Score'].mean())\n",
    "print(analise_TOEFL_beyond_median['TOEFL Score'].median())\n",
    "print(analise_TOEFL_beyond_median['TOEFL Score'].mode())\n",
    "print(analise_TOEFL_beyond_median['TOEFL Score'].max())\n",
    "print(analise_TOEFL_beyond_median['TOEFL Score'].min())"
   ]
  },
  {
   "cell_type": "code",
   "execution_count": 83,
   "metadata": {},
   "outputs": [
    {
     "name": "stdout",
     "output_type": "stream",
     "text": [
      "3.7004608294930876\n",
      "4.0\n",
      "0    3\n",
      "Name: University Rating, dtype: int64\n",
      "5\n",
      "1\n"
     ]
    }
   ],
   "source": [
    "print(analise_TOEFL_beyond_median['University Rating'].mean())\n",
    "print(analise_TOEFL_beyond_median['University Rating'].median())\n",
    "print(analise_TOEFL_beyond_median['University Rating'].mode())\n",
    "print(analise_TOEFL_beyond_median['University Rating'].max())\n",
    "print(analise_TOEFL_beyond_median['University Rating'].min())"
   ]
  },
  {
   "cell_type": "code",
   "execution_count": 85,
   "metadata": {},
   "outputs": [
    {
     "name": "stdout",
     "output_type": "stream",
     "text": [
      "3.8317972350230414\n",
      "4.0\n",
      "0    4.0\n",
      "Name: LOR , dtype: float64\n",
      "5.0\n",
      "1.5\n"
     ]
    }
   ],
   "source": [
    "print(analise_TOEFL_beyond_median['LOR '].mean())\n",
    "print(analise_TOEFL_beyond_median['LOR '].median())\n",
    "print(analise_TOEFL_beyond_median['LOR '].mode())\n",
    "print(analise_TOEFL_beyond_median['LOR '].max())\n",
    "print(analise_TOEFL_beyond_median['LOR '].min())"
   ]
  },
  {
   "cell_type": "code",
   "execution_count": 86,
   "metadata": {},
   "outputs": [
    {
     "name": "stdout",
     "output_type": "stream",
     "text": [
      "3.9193548387096775\n",
      "4.0\n",
      "0    4.0\n",
      "Name: SOP, dtype: float64\n",
      "5.0\n",
      "2.0\n"
     ]
    }
   ],
   "source": [
    "print(analise_TOEFL_beyond_median['SOP'].mean())\n",
    "print(analise_TOEFL_beyond_median['SOP'].median())\n",
    "print(analise_TOEFL_beyond_median['SOP'].mode())\n",
    "print(analise_TOEFL_beyond_median['SOP'].max())\n",
    "print(analise_TOEFL_beyond_median['SOP'].min())"
   ]
  },
  {
   "cell_type": "code",
   "execution_count": 87,
   "metadata": {},
   "outputs": [
    {
     "name": "stdout",
     "output_type": "stream",
     "text": [
      "8.976129032258065\n",
      "9.02\n",
      "0    8.76\n",
      "1    9.11\n",
      "Name: CGPA, dtype: float64\n",
      "9.92\n",
      "7.7\n"
     ]
    }
   ],
   "source": [
    "print(analise_TOEFL_beyond_median['CGPA'].mean())\n",
    "print(analise_TOEFL_beyond_median['CGPA'].median())\n",
    "print(analise_TOEFL_beyond_median['CGPA'].mode())\n",
    "print(analise_TOEFL_beyond_median['CGPA'].max())\n",
    "print(analise_TOEFL_beyond_median['CGPA'].min())"
   ]
  },
  {
   "cell_type": "code",
   "execution_count": 88,
   "metadata": {},
   "outputs": [
    {
     "name": "stdout",
     "output_type": "stream",
     "text": [
      "0.8091244239631336\n",
      "0.81\n",
      "0    0.94\n",
      "Name: Chance of Admit , dtype: float64\n",
      "0.97\n",
      "0.45\n"
     ]
    }
   ],
   "source": [
    "print(analise_TOEFL_beyond_median['Chance of Admit '].mean())\n",
    "print(analise_TOEFL_beyond_median['Chance of Admit '].median())\n",
    "print(analise_TOEFL_beyond_median['Chance of Admit '].mode())\n",
    "print(analise_TOEFL_beyond_median['Chance of Admit '].max())\n",
    "print(analise_TOEFL_beyond_median['Chance of Admit '].min())"
   ]
  },
  {
   "cell_type": "markdown",
   "metadata": {},
   "source": [
    "#### Abaixo da Mediana"
   ]
  },
  {
   "cell_type": "code",
   "execution_count": 55,
   "metadata": {},
   "outputs": [],
   "source": [
    "analise_TOEFL_below_median = df[df['TOEFL Score'] < 107]"
   ]
  },
  {
   "cell_type": "code",
   "execution_count": 56,
   "metadata": {},
   "outputs": [
    {
     "data": {
      "text/html": [
       "<div>\n",
       "<style scoped>\n",
       "    .dataframe tbody tr th:only-of-type {\n",
       "        vertical-align: middle;\n",
       "    }\n",
       "\n",
       "    .dataframe tbody tr th {\n",
       "        vertical-align: top;\n",
       "    }\n",
       "\n",
       "    .dataframe thead th {\n",
       "        text-align: right;\n",
       "    }\n",
       "</style>\n",
       "<table border=\"1\" class=\"dataframe\">\n",
       "  <thead>\n",
       "    <tr style=\"text-align: right;\">\n",
       "      <th></th>\n",
       "      <th>GRE Score</th>\n",
       "      <th>TOEFL Score</th>\n",
       "      <th>University Rating</th>\n",
       "      <th>SOP</th>\n",
       "      <th>LOR</th>\n",
       "      <th>CGPA</th>\n",
       "      <th>Chance of Admit</th>\n",
       "    </tr>\n",
       "  </thead>\n",
       "  <tbody>\n",
       "    <tr>\n",
       "      <th>count</th>\n",
       "      <td>183.000000</td>\n",
       "      <td>183.000000</td>\n",
       "      <td>183.000000</td>\n",
       "      <td>183.000000</td>\n",
       "      <td>183.000000</td>\n",
       "      <td>183.000000</td>\n",
       "      <td>183.000000</td>\n",
       "    </tr>\n",
       "    <tr>\n",
       "      <th>mean</th>\n",
       "      <td>308.273224</td>\n",
       "      <td>102.016393</td>\n",
       "      <td>2.360656</td>\n",
       "      <td>2.784153</td>\n",
       "      <td>3.002732</td>\n",
       "      <td>8.151639</td>\n",
       "      <td>0.623825</td>\n",
       "    </tr>\n",
       "    <tr>\n",
       "      <th>std</th>\n",
       "      <td>8.207588</td>\n",
       "      <td>3.199374</td>\n",
       "      <td>0.852265</td>\n",
       "      <td>0.936806</td>\n",
       "      <td>0.819570</td>\n",
       "      <td>0.415443</td>\n",
       "      <td>0.108823</td>\n",
       "    </tr>\n",
       "    <tr>\n",
       "      <th>min</th>\n",
       "      <td>290.000000</td>\n",
       "      <td>92.000000</td>\n",
       "      <td>1.000000</td>\n",
       "      <td>1.000000</td>\n",
       "      <td>1.000000</td>\n",
       "      <td>6.800000</td>\n",
       "      <td>0.340000</td>\n",
       "    </tr>\n",
       "    <tr>\n",
       "      <th>25%</th>\n",
       "      <td>301.000000</td>\n",
       "      <td>100.000000</td>\n",
       "      <td>2.000000</td>\n",
       "      <td>2.000000</td>\n",
       "      <td>2.500000</td>\n",
       "      <td>7.890000</td>\n",
       "      <td>0.560000</td>\n",
       "    </tr>\n",
       "    <tr>\n",
       "      <th>50%</th>\n",
       "      <td>309.000000</td>\n",
       "      <td>103.000000</td>\n",
       "      <td>2.000000</td>\n",
       "      <td>2.500000</td>\n",
       "      <td>3.000000</td>\n",
       "      <td>8.180000</td>\n",
       "      <td>0.640000</td>\n",
       "    </tr>\n",
       "    <tr>\n",
       "      <th>75%</th>\n",
       "      <td>314.500000</td>\n",
       "      <td>105.000000</td>\n",
       "      <td>3.000000</td>\n",
       "      <td>3.500000</td>\n",
       "      <td>3.500000</td>\n",
       "      <td>8.450000</td>\n",
       "      <td>0.710000</td>\n",
       "    </tr>\n",
       "    <tr>\n",
       "      <th>max</th>\n",
       "      <td>327.000000</td>\n",
       "      <td>106.000000</td>\n",
       "      <td>5.000000</td>\n",
       "      <td>5.000000</td>\n",
       "      <td>5.000000</td>\n",
       "      <td>9.040000</td>\n",
       "      <td>0.820000</td>\n",
       "    </tr>\n",
       "  </tbody>\n",
       "</table>\n",
       "</div>"
      ],
      "text/plain": [
       "        GRE Score  TOEFL Score  University Rating         SOP        LOR   \\\n",
       "count  183.000000   183.000000         183.000000  183.000000  183.000000   \n",
       "mean   308.273224   102.016393           2.360656    2.784153    3.002732   \n",
       "std      8.207588     3.199374           0.852265    0.936806    0.819570   \n",
       "min    290.000000    92.000000           1.000000    1.000000    1.000000   \n",
       "25%    301.000000   100.000000           2.000000    2.000000    2.500000   \n",
       "50%    309.000000   103.000000           2.000000    2.500000    3.000000   \n",
       "75%    314.500000   105.000000           3.000000    3.500000    3.500000   \n",
       "max    327.000000   106.000000           5.000000    5.000000    5.000000   \n",
       "\n",
       "             CGPA  Chance of Admit   \n",
       "count  183.000000        183.000000  \n",
       "mean     8.151639          0.623825  \n",
       "std      0.415443          0.108823  \n",
       "min      6.800000          0.340000  \n",
       "25%      7.890000          0.560000  \n",
       "50%      8.180000          0.640000  \n",
       "75%      8.450000          0.710000  \n",
       "max      9.040000          0.820000  "
      ]
     },
     "execution_count": 56,
     "metadata": {},
     "output_type": "execute_result"
    }
   ],
   "source": [
    "analise_TOEFL_below_median.describe()"
   ]
  },
  {
   "cell_type": "code",
   "execution_count": 89,
   "metadata": {},
   "outputs": [
    {
     "name": "stdout",
     "output_type": "stream",
     "text": [
      "308.27322404371586\n",
      "309.0\n",
      "0    312\n",
      "Name: GRE Score, dtype: int64\n",
      "327\n",
      "290\n"
     ]
    }
   ],
   "source": [
    "print(analise_TOEFL_below_median['GRE Score'].mean())\n",
    "print(analise_TOEFL_below_median['GRE Score'].median())\n",
    "print(analise_TOEFL_below_median['GRE Score'].mode())\n",
    "print(analise_TOEFL_below_median['GRE Score'].max())\n",
    "print(analise_TOEFL_below_median['GRE Score'].min())"
   ]
  },
  {
   "cell_type": "code",
   "execution_count": 90,
   "metadata": {},
   "outputs": [
    {
     "name": "stdout",
     "output_type": "stream",
     "text": [
      "102.01639344262296\n",
      "103.0\n",
      "0    105\n",
      "Name: TOEFL Score, dtype: int64\n",
      "106\n",
      "92\n"
     ]
    }
   ],
   "source": [
    "print(analise_TOEFL_below_median['TOEFL Score'].mean())\n",
    "print(analise_TOEFL_below_median['TOEFL Score'].median())\n",
    "print(analise_TOEFL_below_median['TOEFL Score'].mode())\n",
    "print(analise_TOEFL_below_median['TOEFL Score'].max())\n",
    "print(analise_TOEFL_below_median['TOEFL Score'].min())"
   ]
  },
  {
   "cell_type": "code",
   "execution_count": 91,
   "metadata": {},
   "outputs": [
    {
     "name": "stdout",
     "output_type": "stream",
     "text": [
      "2.360655737704918\n",
      "2.0\n",
      "0    2\n",
      "Name: University Rating, dtype: int64\n",
      "5\n",
      "1\n"
     ]
    }
   ],
   "source": [
    "print(analise_TOEFL_below_median['University Rating'].mean())\n",
    "print(analise_TOEFL_below_median['University Rating'].median())\n",
    "print(analise_TOEFL_below_median['University Rating'].mode())\n",
    "print(analise_TOEFL_below_median['University Rating'].max())\n",
    "print(analise_TOEFL_below_median['University Rating'].min())"
   ]
  },
  {
   "cell_type": "code",
   "execution_count": 92,
   "metadata": {},
   "outputs": [
    {
     "name": "stdout",
     "output_type": "stream",
     "text": [
      "3.0027322404371586\n",
      "3.0\n",
      "0    3.0\n",
      "Name: LOR , dtype: float64\n",
      "5.0\n",
      "1.0\n"
     ]
    }
   ],
   "source": [
    "print(analise_TOEFL_below_median['LOR '].mean())\n",
    "print(analise_TOEFL_below_median['LOR '].median())\n",
    "print(analise_TOEFL_below_median['LOR '].mode())\n",
    "print(analise_TOEFL_below_median['LOR '].max())\n",
    "print(analise_TOEFL_below_median['LOR '].min())"
   ]
  },
  {
   "cell_type": "code",
   "execution_count": 93,
   "metadata": {},
   "outputs": [
    {
     "name": "stdout",
     "output_type": "stream",
     "text": [
      "2.7841530054644807\n",
      "2.5\n",
      "0    2.5\n",
      "1    3.0\n",
      "Name: SOP, dtype: float64\n",
      "5.0\n",
      "1.0\n"
     ]
    }
   ],
   "source": [
    "print(analise_TOEFL_below_median['SOP'].mean())\n",
    "print(analise_TOEFL_below_median['SOP'].median())\n",
    "print(analise_TOEFL_below_median['SOP'].mode())\n",
    "print(analise_TOEFL_below_median['SOP'].max())\n",
    "print(analise_TOEFL_below_median['SOP'].min())"
   ]
  },
  {
   "cell_type": "code",
   "execution_count": 94,
   "metadata": {},
   "outputs": [
    {
     "name": "stdout",
     "output_type": "stream",
     "text": [
      "8.151639344262295\n",
      "8.18\n",
      "0    8.0\n",
      "Name: CGPA, dtype: float64\n",
      "9.04\n",
      "6.8\n"
     ]
    }
   ],
   "source": [
    "print(analise_TOEFL_below_median['CGPA'].mean())\n",
    "print(analise_TOEFL_below_median['CGPA'].median())\n",
    "print(analise_TOEFL_below_median['CGPA'].mode())\n",
    "print(analise_TOEFL_below_median['CGPA'].max())\n",
    "print(analise_TOEFL_below_median['CGPA'].min())"
   ]
  },
  {
   "cell_type": "code",
   "execution_count": 95,
   "metadata": {},
   "outputs": [
    {
     "name": "stdout",
     "output_type": "stream",
     "text": [
      "0.6238251366120219\n",
      "0.64\n",
      "0    0.64\n",
      "Name: Chance of Admit , dtype: float64\n",
      "0.82\n",
      "0.34\n"
     ]
    }
   ],
   "source": [
    "print(analise_TOEFL_below_median['Chance of Admit '].mean())\n",
    "print(analise_TOEFL_below_median['Chance of Admit '].median())\n",
    "print(analise_TOEFL_below_median['Chance of Admit '].mode())\n",
    "print(analise_TOEFL_below_median['Chance of Admit '].max())\n",
    "print(analise_TOEFL_below_median['Chance of Admit '].min())"
   ]
  },
  {
   "cell_type": "markdown",
   "metadata": {},
   "source": [
    "### CGPA acima ou abaixo da mediana"
   ]
  },
  {
   "cell_type": "markdown",
   "metadata": {},
   "source": [
    "#### Acima"
   ]
  },
  {
   "cell_type": "code",
   "execution_count": null,
   "metadata": {},
   "outputs": [],
   "source": []
  }
 ],
 "metadata": {
  "kernelspec": {
   "display_name": "Python 3",
   "language": "python",
   "name": "python3"
  },
  "language_info": {
   "codemirror_mode": {
    "name": "ipython",
    "version": 3
   },
   "file_extension": ".py",
   "mimetype": "text/x-python",
   "name": "python",
   "nbconvert_exporter": "python",
   "pygments_lexer": "ipython3",
   "version": "3.11.9"
  }
 },
 "nbformat": 4,
 "nbformat_minor": 2
}
